{
 "metadata": {
  "language_info": {
   "codemirror_mode": {
    "name": "ipython",
    "version": 3
   },
   "file_extension": ".py",
   "mimetype": "text/x-python",
   "name": "python",
   "nbconvert_exporter": "python",
   "pygments_lexer": "ipython3",
   "version": "3.8.5-final"
  },
  "orig_nbformat": 2,
  "kernelspec": {
   "name": "python385jvsc74a57bd0767d51c1340bd893661ea55ea3124f6de3c7a262a8b4abca0554b478b1e2ff90",
   "display_name": "Python 3.8.5 64-bit"
  }
 },
 "nbformat": 4,
 "nbformat_minor": 2,
 "cells": [
  {
   "cell_type": "code",
   "execution_count": null,
   "metadata": {},
   "outputs": [],
   "source": [
    "# Import library\n",
    "import pandas as pd\n",
    "import math\n",
    "import matplotlib.pyplot as plt"
   ]
  },
  {
   "cell_type": "code",
   "execution_count": null,
   "metadata": {},
   "outputs": [],
   "source": [
    "# Section 1\n",
    "\n",
    "# Change dimension of gyroscope to radian/s\n",
    "\n",
    "# import data\n",
    "df = pd.read_excel('./gyroscope.xls')\n",
    "\n",
    "# define sampling time, in this case is 100 Hz, or 1 / 100 or 0,01\n",
    "sampling_time = 0.01"
   ]
  },
  {
   "cell_type": "code",
   "execution_count": null,
   "metadata": {},
   "outputs": [],
   "source": [
    "# define function to change dimenion of gyrscope\n",
    "# with formula :\n",
    "# gyro_angle * sampling_time\n",
    "gyro_angle_func = lambda coordinate: coordinate * sampling_time"
   ]
  },
  {
   "cell_type": "code",
   "execution_count": null,
   "metadata": {},
   "outputs": [],
   "source": [
    "\n",
    "# perform calculation\n",
    "gyro_angle_x = list(map(gyro_angle_func, df['x'].to_numpy()))\n",
    "gyro_angle_y = list(map(gyro_angle_func, df['y'].to_numpy()))\n",
    "gyro_angle_z = list(map(gyro_angle_func, df['z'].to_numpy()))"
   ]
  },
  {
   "cell_type": "code",
   "execution_count": null,
   "metadata": {},
   "outputs": [],
   "source": [
    "# Section 2\n",
    "\n",
    "# Perform complementary filter calcualtion\n",
    "\n",
    "# Step 1 - Import accelerometer dataset\n",
    "\n",
    "df = pd.read_excel('./acceleration.xls')"
   ]
  },
  {
   "cell_type": "code",
   "execution_count": null,
   "metadata": {},
   "outputs": [],
   "source": [
    "# Setp 2 - Define accelerometer phi angle\n",
    "\n",
    "# define accelerometer phi angle computation function\n",
    "# with formula :\n",
    "# arctan(Ay / sqrt(Ax^2 + Az^2))\n",
    "phi_angle_func = lambda x,y,z: math.atan(y/ math.sqrt(math.pow(x, 2) + math.pow(z, 2)))"
   ]
  },
  {
   "cell_type": "code",
   "execution_count": null,
   "metadata": {},
   "outputs": [],
   "source": [
    "# perform accelerometer phi angle calculation with map and functional way\n",
    "accelerometer_phi_angle = list(map(phi_angle_func, df['x'].to_numpy(), \n",
    "                                                   df['y'].to_numpy(), \n",
    "                                                   df['z'].to_numpy()))"
   ]
  },
  {
   "cell_type": "code",
   "execution_count": null,
   "metadata": {},
   "outputs": [],
   "source": [
    "# Step 3 - Perform Gait Angle calculation with complementary filter function\n",
    "# formula : (gyro_angle * 0.98) + (accelerometer_phi_angle * 0.02)'\n",
    "gait_angle_func = lambda gyro_angle, acc_phi_angle: (gyro_angle * 0.98) + (acc_phi_angle * 0.02)"
   ]
  },
  {
   "cell_type": "code",
   "execution_count": null,
   "metadata": {},
   "outputs": [],
   "source": [
    "# define function to mapping plot filename\n",
    "map_plot_filename = lambda filename: '_'.join(list(map(str.lower, filename.split(' '))))"
   ]
  },
  {
   "cell_type": "code",
   "execution_count": null,
   "metadata": {},
   "outputs": [],
   "source": [
    "# perform complementary filter calculation with map and functional way\n",
    "gait_angle_x = list(map(gait_angle_func, gyro_angle_x, accelerometer_phi_angle))\n",
    "gait_angle_y = list(map(gait_angle_func, gyro_angle_y, accelerometer_phi_angle))\n",
    "gait_angle_z = list(map(gait_angle_func, gyro_angle_z, accelerometer_phi_angle))"
   ]
  },
  {
   "cell_type": "code",
   "execution_count": null,
   "metadata": {},
   "outputs": [],
   "source": [
    "def plot_data(gait_angle, coordinate):\n",
    "    plot_name = f'Knee flexion at {coordinate}-axis'\n",
    "    plt.xlabel('time (s)')\n",
    "    plt.ylabel('degree/s')\n",
    "    plt.title(plot_name)\n",
    "    plt.plot(df['time'].to_numpy(), gait_angle)\n",
    "    plt.savefig(map_plot_filename(plot_name))\n",
    "    plt.show()\n",
    "\n",
    "plot_data(gait_angle_x, 'x')\n",
    "plot_data(gait_angle_y, 'y')\n",
    "plot_data(gait_angle_z, 'z')\n"
   ]
  },
  {
   "cell_type": "code",
   "execution_count": null,
   "metadata": {},
   "outputs": [],
   "source": []
  }
 ]
}